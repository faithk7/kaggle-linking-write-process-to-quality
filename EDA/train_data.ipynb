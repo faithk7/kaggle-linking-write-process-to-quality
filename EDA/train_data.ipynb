{
 "cells": [
  {
   "cell_type": "code",
   "execution_count": 2,
   "metadata": {},
   "outputs": [],
   "source": [
    "import pandas as pd\n",
    "import seaborn as sns \n",
    "import os\n"
   ]
  },
  {
   "cell_type": "markdown",
   "metadata": {},
   "source": [
    "#  General Data Analysis"
   ]
  },
  {
   "cell_type": "code",
   "execution_count": 3,
   "metadata": {},
   "outputs": [
    {
     "name": "stdout",
     "output_type": "stream",
     "text": [
      "8405898\n",
      "         id  event_id  down_time  up_time  action_time       activity  \\\n",
      "0  001519c8         1       4526     4557           31  Nonproduction   \n",
      "1  001519c8         2       4558     4962          404  Nonproduction   \n",
      "2  001519c8         3     106571   106571            0  Nonproduction   \n",
      "3  001519c8         4     106686   106777           91          Input   \n",
      "4  001519c8         5     107196   107323          127          Input   \n",
      "\n",
      "  down_event   up_event text_change  cursor_position  word_count  score  \n",
      "0  Leftclick  Leftclick    NoChange                0           0    3.5  \n",
      "1  Leftclick  Leftclick    NoChange                0           0    3.5  \n",
      "2      Shift      Shift    NoChange                0           0    3.5  \n",
      "3          q          q           q                1           1    3.5  \n",
      "4          q          q           q                2           1    3.5  \n"
     ]
    }
   ],
   "source": [
    "DATA_ROOT = \"/Users/kaiqu/kaggle-datasets/linking-writing-processes-to-writing-quality\"\n",
    "df = pd.read_csv(f'{DATA_ROOT}/train_logs.csv')\n",
    "df_score = pd.read_csv(f'{DATA_ROOT}/train_scores.csv')\n",
    "\n",
    "df_overall = pd.merge(df, df_score, how=\"left\")\n",
    "print(len(df))\n",
    "print(df_overall.head())"
   ]
  },
  {
   "cell_type": "code",
   "execution_count": 4,
   "metadata": {},
   "outputs": [
    {
     "data": {
      "text/html": [
       "<div>\n",
       "<style scoped>\n",
       "    .dataframe tbody tr th:only-of-type {\n",
       "        vertical-align: middle;\n",
       "    }\n",
       "\n",
       "    .dataframe tbody tr th {\n",
       "        vertical-align: top;\n",
       "    }\n",
       "\n",
       "    .dataframe thead th {\n",
       "        text-align: right;\n",
       "    }\n",
       "</style>\n",
       "<table border=\"1\" class=\"dataframe\">\n",
       "  <thead>\n",
       "    <tr style=\"text-align: right;\">\n",
       "      <th></th>\n",
       "      <th>event_id</th>\n",
       "      <th>down_time</th>\n",
       "      <th>up_time</th>\n",
       "      <th>action_time</th>\n",
       "      <th>cursor_position</th>\n",
       "      <th>word_count</th>\n",
       "    </tr>\n",
       "  </thead>\n",
       "  <tbody>\n",
       "    <tr>\n",
       "      <th>count</th>\n",
       "      <td>8.405898e+06</td>\n",
       "      <td>8.405898e+06</td>\n",
       "      <td>8.405898e+06</td>\n",
       "      <td>8.405898e+06</td>\n",
       "      <td>8.405898e+06</td>\n",
       "      <td>8.405898e+06</td>\n",
       "    </tr>\n",
       "    <tr>\n",
       "      <th>mean</th>\n",
       "      <td>2.067649e+03</td>\n",
       "      <td>7.935603e+05</td>\n",
       "      <td>7.936584e+05</td>\n",
       "      <td>9.808498e+01</td>\n",
       "      <td>1.222964e+03</td>\n",
       "      <td>2.314687e+02</td>\n",
       "    </tr>\n",
       "    <tr>\n",
       "      <th>std</th>\n",
       "      <td>1.588284e+03</td>\n",
       "      <td>5.149451e+05</td>\n",
       "      <td>5.149428e+05</td>\n",
       "      <td>2.533985e+02</td>\n",
       "      <td>9.485242e+02</td>\n",
       "      <td>1.759088e+02</td>\n",
       "    </tr>\n",
       "    <tr>\n",
       "      <th>min</th>\n",
       "      <td>1.000000e+00</td>\n",
       "      <td>1.060000e+02</td>\n",
       "      <td>2.520000e+02</td>\n",
       "      <td>0.000000e+00</td>\n",
       "      <td>0.000000e+00</td>\n",
       "      <td>0.000000e+00</td>\n",
       "    </tr>\n",
       "    <tr>\n",
       "      <th>25%</th>\n",
       "      <td>8.520000e+02</td>\n",
       "      <td>3.731842e+05</td>\n",
       "      <td>3.732820e+05</td>\n",
       "      <td>6.600000e+01</td>\n",
       "      <td>4.990000e+02</td>\n",
       "      <td>9.600000e+01</td>\n",
       "    </tr>\n",
       "    <tr>\n",
       "      <th>50%</th>\n",
       "      <td>1.726000e+03</td>\n",
       "      <td>7.208860e+05</td>\n",
       "      <td>7.209800e+05</td>\n",
       "      <td>9.300000e+01</td>\n",
       "      <td>1.043000e+03</td>\n",
       "      <td>2.000000e+02</td>\n",
       "    </tr>\n",
       "    <tr>\n",
       "      <th>75%</th>\n",
       "      <td>2.926000e+03</td>\n",
       "      <td>1.163042e+06</td>\n",
       "      <td>1.163141e+06</td>\n",
       "      <td>1.220000e+02</td>\n",
       "      <td>1.706000e+03</td>\n",
       "      <td>3.270000e+02</td>\n",
       "    </tr>\n",
       "    <tr>\n",
       "      <th>max</th>\n",
       "      <td>1.287600e+04</td>\n",
       "      <td>8.313630e+06</td>\n",
       "      <td>8.313707e+06</td>\n",
       "      <td>4.474700e+05</td>\n",
       "      <td>7.802000e+03</td>\n",
       "      <td>1.326000e+03</td>\n",
       "    </tr>\n",
       "  </tbody>\n",
       "</table>\n",
       "</div>"
      ],
      "text/plain": [
       "           event_id     down_time       up_time   action_time  \\\n",
       "count  8.405898e+06  8.405898e+06  8.405898e+06  8.405898e+06   \n",
       "mean   2.067649e+03  7.935603e+05  7.936584e+05  9.808498e+01   \n",
       "std    1.588284e+03  5.149451e+05  5.149428e+05  2.533985e+02   \n",
       "min    1.000000e+00  1.060000e+02  2.520000e+02  0.000000e+00   \n",
       "25%    8.520000e+02  3.731842e+05  3.732820e+05  6.600000e+01   \n",
       "50%    1.726000e+03  7.208860e+05  7.209800e+05  9.300000e+01   \n",
       "75%    2.926000e+03  1.163042e+06  1.163141e+06  1.220000e+02   \n",
       "max    1.287600e+04  8.313630e+06  8.313707e+06  4.474700e+05   \n",
       "\n",
       "       cursor_position    word_count  \n",
       "count     8.405898e+06  8.405898e+06  \n",
       "mean      1.222964e+03  2.314687e+02  \n",
       "std       9.485242e+02  1.759088e+02  \n",
       "min       0.000000e+00  0.000000e+00  \n",
       "25%       4.990000e+02  9.600000e+01  \n",
       "50%       1.043000e+03  2.000000e+02  \n",
       "75%       1.706000e+03  3.270000e+02  \n",
       "max       7.802000e+03  1.326000e+03  "
      ]
     },
     "execution_count": 4,
     "metadata": {},
     "output_type": "execute_result"
    }
   ],
   "source": [
    "df.describe()"
   ]
  },
  {
   "cell_type": "code",
   "execution_count": null,
   "metadata": {},
   "outputs": [],
   "source": []
  },
  {
   "cell_type": "code",
   "execution_count": 40,
   "metadata": {},
   "outputs": [
    {
     "name": "stdout",
     "output_type": "stream",
     "text": [
      "<class 'pandas.core.frame.DataFrame'>\n",
      "RangeIndex: 2471 entries, 0 to 2470\n",
      "Data columns (total 2 columns):\n",
      " #   Column  Non-Null Count  Dtype  \n",
      "---  ------  --------------  -----  \n",
      " 0   id      2471 non-null   object \n",
      " 1   score   2471 non-null   float64\n",
      "dtypes: float64(1), object(1)\n",
      "memory usage: 38.7+ KB\n"
     ]
    }
   ],
   "source": [
    "df_score.info()"
   ]
  },
  {
   "cell_type": "code",
   "execution_count": 5,
   "metadata": {},
   "outputs": [
    {
     "name": "stdout",
     "output_type": "stream",
     "text": [
      "<class 'pandas.core.frame.DataFrame'>\n",
      "RangeIndex: 8405898 entries, 0 to 8405897\n",
      "Data columns (total 11 columns):\n",
      " #   Column           Dtype \n",
      "---  ------           ----- \n",
      " 0   id               object\n",
      " 1   event_id         int64 \n",
      " 2   down_time        int64 \n",
      " 3   up_time          int64 \n",
      " 4   action_time      int64 \n",
      " 5   activity         object\n",
      " 6   down_event       object\n",
      " 7   up_event         object\n",
      " 8   text_change      object\n",
      " 9   cursor_position  int64 \n",
      " 10  word_count       int64 \n",
      "dtypes: int64(6), object(5)\n",
      "memory usage: 705.5+ MB\n"
     ]
    }
   ],
   "source": [
    "df.info()"
   ]
  },
  {
   "cell_type": "code",
   "execution_count": 6,
   "metadata": {},
   "outputs": [
    {
     "data": {
      "text/html": [
       "<div>\n",
       "<style scoped>\n",
       "    .dataframe tbody tr th:only-of-type {\n",
       "        vertical-align: middle;\n",
       "    }\n",
       "\n",
       "    .dataframe tbody tr th {\n",
       "        vertical-align: top;\n",
       "    }\n",
       "\n",
       "    .dataframe thead th {\n",
       "        text-align: right;\n",
       "    }\n",
       "</style>\n",
       "<table border=\"1\" class=\"dataframe\">\n",
       "  <thead>\n",
       "    <tr style=\"text-align: right;\">\n",
       "      <th></th>\n",
       "      <th>id</th>\n",
       "      <th>event_id</th>\n",
       "      <th>down_time</th>\n",
       "      <th>up_time</th>\n",
       "      <th>action_time</th>\n",
       "      <th>activity</th>\n",
       "      <th>down_event</th>\n",
       "      <th>up_event</th>\n",
       "      <th>text_change</th>\n",
       "      <th>cursor_position</th>\n",
       "      <th>word_count</th>\n",
       "    </tr>\n",
       "  </thead>\n",
       "  <tbody>\n",
       "    <tr>\n",
       "      <th>0</th>\n",
       "      <td>001519c8</td>\n",
       "      <td>1</td>\n",
       "      <td>4526</td>\n",
       "      <td>4557</td>\n",
       "      <td>31</td>\n",
       "      <td>Nonproduction</td>\n",
       "      <td>Leftclick</td>\n",
       "      <td>Leftclick</td>\n",
       "      <td>NoChange</td>\n",
       "      <td>0</td>\n",
       "      <td>0</td>\n",
       "    </tr>\n",
       "    <tr>\n",
       "      <th>1</th>\n",
       "      <td>001519c8</td>\n",
       "      <td>2</td>\n",
       "      <td>4558</td>\n",
       "      <td>4962</td>\n",
       "      <td>404</td>\n",
       "      <td>Nonproduction</td>\n",
       "      <td>Leftclick</td>\n",
       "      <td>Leftclick</td>\n",
       "      <td>NoChange</td>\n",
       "      <td>0</td>\n",
       "      <td>0</td>\n",
       "    </tr>\n",
       "    <tr>\n",
       "      <th>2</th>\n",
       "      <td>001519c8</td>\n",
       "      <td>3</td>\n",
       "      <td>106571</td>\n",
       "      <td>106571</td>\n",
       "      <td>0</td>\n",
       "      <td>Nonproduction</td>\n",
       "      <td>Shift</td>\n",
       "      <td>Shift</td>\n",
       "      <td>NoChange</td>\n",
       "      <td>0</td>\n",
       "      <td>0</td>\n",
       "    </tr>\n",
       "    <tr>\n",
       "      <th>3</th>\n",
       "      <td>001519c8</td>\n",
       "      <td>4</td>\n",
       "      <td>106686</td>\n",
       "      <td>106777</td>\n",
       "      <td>91</td>\n",
       "      <td>Input</td>\n",
       "      <td>q</td>\n",
       "      <td>q</td>\n",
       "      <td>q</td>\n",
       "      <td>1</td>\n",
       "      <td>1</td>\n",
       "    </tr>\n",
       "    <tr>\n",
       "      <th>4</th>\n",
       "      <td>001519c8</td>\n",
       "      <td>5</td>\n",
       "      <td>107196</td>\n",
       "      <td>107323</td>\n",
       "      <td>127</td>\n",
       "      <td>Input</td>\n",
       "      <td>q</td>\n",
       "      <td>q</td>\n",
       "      <td>q</td>\n",
       "      <td>2</td>\n",
       "      <td>1</td>\n",
       "    </tr>\n",
       "  </tbody>\n",
       "</table>\n",
       "</div>"
      ],
      "text/plain": [
       "         id  event_id  down_time  up_time  action_time       activity  \\\n",
       "0  001519c8         1       4526     4557           31  Nonproduction   \n",
       "1  001519c8         2       4558     4962          404  Nonproduction   \n",
       "2  001519c8         3     106571   106571            0  Nonproduction   \n",
       "3  001519c8         4     106686   106777           91          Input   \n",
       "4  001519c8         5     107196   107323          127          Input   \n",
       "\n",
       "  down_event   up_event text_change  cursor_position  word_count  \n",
       "0  Leftclick  Leftclick    NoChange                0           0  \n",
       "1  Leftclick  Leftclick    NoChange                0           0  \n",
       "2      Shift      Shift    NoChange                0           0  \n",
       "3          q          q           q                1           1  \n",
       "4          q          q           q                2           1  "
      ]
     },
     "execution_count": 6,
     "metadata": {},
     "output_type": "execute_result"
    }
   ],
   "source": [
    "df.head()"
   ]
  },
  {
   "cell_type": "code",
   "execution_count": 7,
   "metadata": {},
   "outputs": [
    {
     "data": {
      "text/plain": [
       "id                 object\n",
       "event_id            int64\n",
       "down_time           int64\n",
       "up_time             int64\n",
       "action_time         int64\n",
       "activity           object\n",
       "down_event         object\n",
       "up_event           object\n",
       "text_change        object\n",
       "cursor_position     int64\n",
       "word_count          int64\n",
       "dtype: object"
      ]
     },
     "execution_count": 7,
     "metadata": {},
     "output_type": "execute_result"
    }
   ],
   "source": [
    "df.dtypes"
   ]
  },
  {
   "cell_type": "code",
   "execution_count": 8,
   "metadata": {},
   "outputs": [
    {
     "name": "stdout",
     "output_type": "stream",
     "text": [
      "id                 0\n",
      "event_id           0\n",
      "down_time          0\n",
      "up_time            0\n",
      "action_time        0\n",
      "activity           0\n",
      "down_event         0\n",
      "up_event           0\n",
      "text_change        0\n",
      "cursor_position    0\n",
      "word_count         0\n",
      "dtype: int64\n",
      "********************\n",
      "id                 0\n",
      "event_id           0\n",
      "down_time          0\n",
      "up_time            0\n",
      "action_time        0\n",
      "activity           0\n",
      "down_event         0\n",
      "up_event           0\n",
      "text_change        0\n",
      "cursor_position    0\n",
      "word_count         0\n",
      "dtype: int64\n"
     ]
    }
   ],
   "source": [
    "print(df.isnull().sum())\n",
    "print('*' * 20)\n",
    "print(df.isna().sum())"
   ]
  },
  {
   "cell_type": "code",
   "execution_count": 9,
   "metadata": {},
   "outputs": [
    {
     "name": "stdout",
     "output_type": "stream",
     "text": [
      "id 2471\n",
      "event_id 12876\n",
      "down_time 1836078\n",
      "up_time 1835993\n",
      "action_time 3509\n",
      "activity 50\n",
      "down_event 131\n",
      "up_event 130\n",
      "text_change 4111\n",
      "cursor_position 7803\n",
      "word_count 1327\n"
     ]
    }
   ],
   "source": [
    "for col in df.columns:\n",
    "    print(col, df[col].nunique())"
   ]
  },
  {
   "cell_type": "code",
   "execution_count": 10,
   "metadata": {},
   "outputs": [
    {
     "data": {
      "text/plain": [
       "array(['001519c8', '0022f953', '0042269b', '0059420b', '0075873a',\n",
       "       '0081af50', '0093f095', '009e23ab', '00e048f1', '00e1f05a',\n",
       "       '00e713bd', '00f0737e', '00f8e84c', '00fc9a6a', '0144e4d5',\n",
       "       '014e7ae9', '015aa732', '0178a105', '0182aa1c', '0190ff4c'],\n",
       "      dtype=object)"
      ]
     },
     "execution_count": 10,
     "metadata": {},
     "output_type": "execute_result"
    }
   ],
   "source": [
    "df['id'].unique()[:20]"
   ]
  },
  {
   "cell_type": "code",
   "execution_count": null,
   "metadata": {},
   "outputs": [],
   "source": []
  },
  {
   "cell_type": "code",
   "execution_count": 11,
   "metadata": {},
   "outputs": [
    {
     "name": "stdout",
     "output_type": "stream",
     "text": [
      "           id  event_id  down_time  up_time  action_time       activity  \\\n",
      "0    001519c8         1       4526     4557           31  Nonproduction   \n",
      "1    001519c8         2       4558     4962          404  Nonproduction   \n",
      "2    001519c8         3     106571   106571            0  Nonproduction   \n",
      "160  001519c8       161     178254   178335           81  Nonproduction   \n",
      "162  001519c8       163     180840   180857           17  Nonproduction   \n",
      "\n",
      "    down_event   up_event text_change  cursor_position  word_count  \n",
      "0    Leftclick  Leftclick    NoChange                0           0  \n",
      "1    Leftclick  Leftclick    NoChange                0           0  \n",
      "2        Shift      Shift    NoChange                0           0  \n",
      "160  Leftclick  Leftclick    NoChange               14          18  \n",
      "162  Leftclick  Leftclick    NoChange              106          18  \n"
     ]
    }
   ],
   "source": [
    "print(df[df[\"activity\"] == \"Nonproduction\"].head())\n",
    "\n",
    "if not os.path.exists('nonproduction_id_015aa732.csv'):\n",
    "    df[(df[\"activity\"] == \"Nonproduction\") & (df['id'] == '015aa732')].to_csv('nonproduction_id_015aa732.csv')    # NOTE: the usage of df.query\n",
    "    df.query(\"activity == 'Nonproduction' & id == '0190ff4c'\").to_csv('nonproduction_id_0190ff4c.csv')"
   ]
  },
  {
   "cell_type": "code",
   "execution_count": 12,
   "metadata": {},
   "outputs": [],
   "source": [
    "if not os.path.exists('essay_id_015aa732.csv'):\n",
    "    df[(df['id'] == '015aa732')].to_csv('essay_id_015aa732.csv')"
   ]
  },
  {
   "cell_type": "code",
   "execution_count": 13,
   "metadata": {},
   "outputs": [
    {
     "name": "stdout",
     "output_type": "stream",
     "text": [
      "534\n",
      "            id  event_id  down_time  up_time  action_time activity down_event  \\\n",
      "5115  0042269b       105     104507   104617          110  Replace          q   \n",
      "5232  0042269b       222     158578   158638           60  Replace          q   \n",
      "6276  0042269b      1266     473329   473439          110  Replace          q   \n",
      "6825  0042269b      1815     641821   641920           99  Replace          q   \n",
      "8223  0042269b      3213    1410198  1410293           95  Replace          q   \n",
      "\n",
      "     up_event                                        text_change  \\\n",
      "5115        m  qqqqqqq qqq qqqq qqqq qqqq qq qqqqqqqq qqqqqqq...   \n",
      "5232        i                                      qqqqqqq  => q   \n",
      "6276        o            qqq qq qqq qqqqqqq qqqqqq qqqq qq  => q   \n",
      "6825        t  qqq qqqqq qq qqqqqqqq qqqq qqq qqqqqqq qq qqqq...   \n",
      "8223        a  qqqqqqq qqqqqqqqq qqqq qqq qq qqqq qqq qqqqqqq...   \n",
      "\n",
      "      cursor_position  word_count  \n",
      "5115                1           4  \n",
      "5232               15          14  \n",
      "6276              194         128  \n",
      "6825              529         190  \n",
      "8223             1539         282  \n"
     ]
    }
   ],
   "source": [
    "# Check where down_event != up_event\n",
    "print(len(df[df['down_event'] != df['up_event']]))\n",
    "print(df[df['down_event'] != df['up_event']].head())"
   ]
  },
  {
   "cell_type": "markdown",
   "metadata": {},
   "source": [
    "# Individual Column Analysis"
   ]
  },
  {
   "cell_type": "code",
   "execution_count": 14,
   "metadata": {},
   "outputs": [
    {
     "name": "stdout",
     "output_type": "stream",
     "text": [
      "down_event\n",
      "['Leftclick' 'Shift' 'q' 'Space' 'Backspace' '.' ',' 'Enter' 'ArrowLeft'\n",
      " \"'\" ';' 'ArrowRight' '-' '?' 'Tab' '\"' 'ArrowUp' 'ArrowDown' 'Rightclick'\n",
      " '=' 'CapsLock' 'Control' 'c' 'v' '/' 'Delete' ':' 'z' '[' '$' '(' ')' '+'\n",
      " 'Home' 'End' '\\\\' 'Meta' '*' '&' 'AudioVolumeMute' 'x' '!' 'Insert'\n",
      " 'MediaPlayPause' 'NumLock' '%' 'V' '>' 'Alt' 'AudioVolumeUp'\n",
      " 'ContextMenu' 'AudioVolumeDown' 'a' '<' 'PageDown' ']' 'Middleclick' '@'\n",
      " 'F12' 'j' '\\x96' 'Dead' 't' 's' 'n' 'y' '{' 'ScrollLock' '¿' 'Process'\n",
      " '}' 'MediaTrackPrevious' 'MediaTrackNext' 'F3' '^' 'Unidentified'\n",
      " 'Cancel' '2' 'i' 'd' 'r' 'e' '`' '\\x9b' 'm' '#' '~' 'PageUp' 'T' 'A' 'b'\n",
      " 'S' 'ModeChange' '_' 'Escape' 'F11' 'Unknownclick' 'AltGraph' 'F10' 'h'\n",
      " 'F15' 'Clear' 'OS' 'F' 'C' 'o' 'Ä±' 'f' 'u' 'w' 'p' 'g' 'M' 'l' '|'\n",
      " 'â\\x80\\x93' 'I' '0' '1' '5' '\\x97' 'Ë\\x86' '¡' '\\x80' 'Â´' 'Å\\x9f' 'F2'\n",
      " 'ä' 'F1' 'Pause' 'F6']\n",
      "\n",
      "up_event\n",
      "['Leftclick' 'Shift' 'q' 'Space' 'Backspace' '.' ',' 'Enter' 'ArrowLeft'\n",
      " \"'\" ';' 'ArrowRight' '-' '?' 'Tab' '\"' 'ArrowUp' 'ArrowDown' 'm'\n",
      " 'Rightclick' 'i' 'o' 't' '=' 'a' 'CapsLock' 'Control' 'c' 'v' '/'\n",
      " 'Delete' ':' 'z' '[' '$' '(' ')' '+' 'Home' 'End' '\\\\' 'Meta' '*' '&'\n",
      " 'AudioVolumeMute' 'x' '!' 'Insert' 'MediaPlayPause' 'w' 'NumLock' '%' 'V'\n",
      " 'b' '>' 'Alt' 'AudioVolumeUp' 'ContextMenu' 'AudioVolumeDown' 'n' 'e' '<'\n",
      " 'PageDown' ']' 'Middleclick' '@' 'F12' 'u' 'j' 's' '\\x96' 'Dead' 'y' '{'\n",
      " 'ScrollLock' '¿' 'p' 'Process' '}' 'MediaTrackPrevious' 'MediaTrackNext'\n",
      " 'F3' '^' 'Unidentified' 'Cancel' 'h' '2' 'd' 'r' '`' '\\x9b' 'f' 'g' '#'\n",
      " '~' 'PageUp' 'l' 'T' 'A' 'S' 'ModeChange' '_' 'Escape' 'F11'\n",
      " 'Unknownclick' 'AltGraph' 'F10' 'F15' 'Clear' 'OS' 'C' 'Ä±' 'M' '|'\n",
      " 'â\\x80\\x93' '0' '1' '5' '\\x97' 'Ë\\x86' '¡' '\\x80' 'Â´' 'Å\\x9f' 'F2' 'ä'\n",
      " 'F1' 'k' 'Pause' 'F6']\n"
     ]
    }
   ],
   "source": [
    "print(\"down_event\")\n",
    "print(df[\"down_event\"].unique())\n",
    "print(\"\\nup_event\")\n",
    "print(df[\"up_event\"].unique())"
   ]
  },
  {
   "cell_type": "code",
   "execution_count": 15,
   "metadata": {},
   "outputs": [
    {
     "name": "stdout",
     "output_type": "stream",
     "text": [
      "\n",
      "activity\n",
      "['Nonproduction' 'Input' 'Remove/Cut' 'Replace'\n",
      " 'Move From [284, 292] To [282, 290]' 'Move From [287, 289] To [285, 287]'\n",
      " 'Move From [460, 461] To [465, 466]' 'Paste'\n",
      " 'Move From [905, 1314] To [907, 1316]'\n",
      " 'Move From [565, 743] To [669, 847]' 'Move From [669, 847] To [565, 743]'\n",
      " 'Move From [1041, 1121] To [1496, 1576]'\n",
      " 'Move From [1455, 1557] To [1323, 1425]'\n",
      " 'Move From [2268, 2275] To [2247, 2254]'\n",
      " 'Move From [213, 302] To [902, 991]' 'Move From [0, 158] To [234, 392]'\n",
      " 'Move From [460, 465] To [925, 930]' 'Move From [810, 906] To [816, 912]'\n",
      " 'Move From [186, 187] To [184, 185]' 'Move From [140, 272] To [299, 431]'\n",
      " 'Move From [114, 140] To [272, 298]'\n",
      " 'Move From [1386, 1450] To [1445, 1509]'\n",
      " 'Move From [442, 524] To [296, 378]' 'Move From [408, 414] To [390, 396]'\n",
      " 'Move From [1144, 1147] To [1142, 1145]'\n",
      " 'Move From [218, 220] To [206, 208]' 'Move From [164, 165] To [153, 154]'\n",
      " 'Move From [623, 632] To [624, 633]'\n",
      " 'Move From [747, 960] To [1041, 1254]'\n",
      " 'Move From [274, 314] To [299, 339]' 'Move From [624, 625] To [845, 846]'\n",
      " 'Move From [1861, 2063] To [1766, 1968]'\n",
      " 'Move From [1766, 1968] To [1861, 2063]'\n",
      " 'Move From [2091, 2179] To [252, 340]'\n",
      " 'Move From [923, 1077] To [340, 494]' 'Move From [0, 1] To [590, 591]'\n",
      " 'Move From [999, 1000] To [1000, 1001]' 'Move From [13, 65] To [9, 61]'\n",
      " 'Move From [1651, 1769] To [1565, 1683]' 'Move From [61, 136] To [0, 75]'\n",
      " 'Move From [0, 75] To [1, 76]' 'Move From [75, 134] To [304, 363]'\n",
      " 'Move From [289, 355] To [562, 628]'\n",
      " 'Move From [944, 1102] To [1050, 1208]'\n",
      " 'Move From [1306, 1371] To [1061, 1126]'\n",
      " 'Move From [1061, 1126] To [1306, 1371]'\n",
      " 'Move From [1361, 1362] To [1358, 1359]'\n",
      " 'Move From [51, 86] To [109, 144]' 'Move From [134, 169] To [122, 157]'\n",
      " 'Move From [382, 437] To [458, 513]']\n"
     ]
    }
   ],
   "source": [
    "print(\"\\nactivity\")\n",
    "print(df[\"activity\"].unique())"
   ]
  },
  {
   "cell_type": "code",
   "execution_count": 39,
   "metadata": {},
   "outputs": [
    {
     "data": {
      "text/html": [
       "<div>\n",
       "<style scoped>\n",
       "    .dataframe tbody tr th:only-of-type {\n",
       "        vertical-align: middle;\n",
       "    }\n",
       "\n",
       "    .dataframe tbody tr th {\n",
       "        vertical-align: top;\n",
       "    }\n",
       "\n",
       "    .dataframe thead th {\n",
       "        text-align: right;\n",
       "    }\n",
       "</style>\n",
       "<table border=\"1\" class=\"dataframe\">\n",
       "  <thead>\n",
       "    <tr style=\"text-align: right;\">\n",
       "      <th></th>\n",
       "      <th>id</th>\n",
       "      <th>event_id</th>\n",
       "      <th>down_time</th>\n",
       "      <th>up_time</th>\n",
       "      <th>action_time</th>\n",
       "      <th>activity</th>\n",
       "      <th>down_event</th>\n",
       "      <th>up_event</th>\n",
       "      <th>text_change</th>\n",
       "      <th>cursor_position</th>\n",
       "      <th>word_count</th>\n",
       "      <th>is_a_sentence</th>\n",
       "    </tr>\n",
       "  </thead>\n",
       "  <tbody>\n",
       "    <tr>\n",
       "      <th>2359</th>\n",
       "      <td>001519c8</td>\n",
       "      <td>2360</td>\n",
       "      <td>1380334</td>\n",
       "      <td>1380334</td>\n",
       "      <td>0</td>\n",
       "      <td>Move From [284, 292] To [282, 290]</td>\n",
       "      <td>Leftclick</td>\n",
       "      <td>Leftclick</td>\n",
       "      <td>qqqqqqq</td>\n",
       "      <td>290</td>\n",
       "      <td>244</td>\n",
       "      <td>False</td>\n",
       "    </tr>\n",
       "  </tbody>\n",
       "</table>\n",
       "</div>"
      ],
      "text/plain": [
       "            id  event_id  down_time  up_time  action_time  \\\n",
       "2359  001519c8      2360    1380334  1380334            0   \n",
       "\n",
       "                                activity down_event   up_event text_change  \\\n",
       "2359  Move From [284, 292] To [282, 290]  Leftclick  Leftclick    qqqqqqq    \n",
       "\n",
       "      cursor_position  word_count  is_a_sentence  \n",
       "2359              290         244          False  "
      ]
     },
     "execution_count": 39,
     "metadata": {},
     "output_type": "execute_result"
    }
   ],
   "source": [
    "df[df['activity'] == 'Move From [284, 292] To [282, 290]']"
   ]
  },
  {
   "cell_type": "code",
   "execution_count": 16,
   "metadata": {},
   "outputs": [
    {
     "name": "stdout",
     "output_type": "stream",
     "text": [
      "['NoChange' 'q' ' ' ... 'qq qqq qqqq qqqqq' 'qq qqqqq qqqq qq qqqqq '\n",
      " '\\n qqqqq qqqqqq qqqqqqqqqq qq q qqqqqqqq qqq qqq qqqq qqqqqq q qqq. \\n\\nqqqq qqq qq qqqqqqq qqq:\\n- \\n- qqq qqqqqqq qqqq q qqqqqq qqqqqqqq qq qqqq qqqqqqqq ']\n",
      "4111\n",
      "True\n",
      "1267\n"
     ]
    }
   ],
   "source": [
    "\n",
    "unique_text_change = df['text_change'].unique()\n",
    "print(unique_text_change)\n",
    "print(len(unique_text_change))\n",
    "print('.' in unique_text_change)\n",
    "count = 0\n",
    "# Get the number of text_change that contains '.'\n",
    "for text_change in unique_text_change:\n",
    "    if '.' in text_change:\n",
    "        count += 1\n",
    "print(count)"
   ]
  },
  {
   "cell_type": "code",
   "execution_count": null,
   "metadata": {},
   "outputs": [],
   "source": []
  },
  {
   "cell_type": "code",
   "execution_count": null,
   "metadata": {},
   "outputs": [],
   "source": []
  },
  {
   "cell_type": "code",
   "execution_count": null,
   "metadata": {},
   "outputs": [],
   "source": []
  },
  {
   "cell_type": "markdown",
   "metadata": {},
   "source": [
    "# Individual Essay Check"
   ]
  },
  {
   "cell_type": "code",
   "execution_count": null,
   "metadata": {},
   "outputs": [],
   "source": []
  },
  {
   "cell_type": "code",
   "execution_count": null,
   "metadata": {},
   "outputs": [],
   "source": []
  },
  {
   "cell_type": "code",
   "execution_count": null,
   "metadata": {},
   "outputs": [],
   "source": []
  },
  {
   "cell_type": "code",
   "execution_count": null,
   "metadata": {},
   "outputs": [],
   "source": []
  },
  {
   "cell_type": "code",
   "execution_count": null,
   "metadata": {},
   "outputs": [],
   "source": []
  },
  {
   "cell_type": "code",
   "execution_count": null,
   "metadata": {},
   "outputs": [],
   "source": []
  },
  {
   "cell_type": "code",
   "execution_count": null,
   "metadata": {},
   "outputs": [],
   "source": []
  },
  {
   "cell_type": "code",
   "execution_count": null,
   "metadata": {},
   "outputs": [],
   "source": []
  },
  {
   "cell_type": "code",
   "execution_count": null,
   "metadata": {},
   "outputs": [],
   "source": []
  },
  {
   "cell_type": "code",
   "execution_count": null,
   "metadata": {},
   "outputs": [],
   "source": []
  },
  {
   "cell_type": "code",
   "execution_count": null,
   "metadata": {},
   "outputs": [],
   "source": []
  },
  {
   "cell_type": "code",
   "execution_count": null,
   "metadata": {},
   "outputs": [],
   "source": []
  },
  {
   "cell_type": "code",
   "execution_count": null,
   "metadata": {},
   "outputs": [],
   "source": []
  },
  {
   "cell_type": "code",
   "execution_count": null,
   "metadata": {},
   "outputs": [],
   "source": []
  },
  {
   "cell_type": "code",
   "execution_count": null,
   "metadata": {},
   "outputs": [],
   "source": []
  },
  {
   "cell_type": "code",
   "execution_count": null,
   "metadata": {},
   "outputs": [],
   "source": []
  },
  {
   "cell_type": "markdown",
   "metadata": {},
   "source": [
    "# Questions Answering"
   ]
  },
  {
   "cell_type": "markdown",
   "metadata": {},
   "source": [
    "## Essay Length"
   ]
  },
  {
   "cell_type": "code",
   "execution_count": 17,
   "metadata": {},
   "outputs": [
    {
     "name": "stdout",
     "output_type": "stream",
     "text": [
      "         id  event_id  down_time  up_time  action_time       activity  \\\n",
      "0  001519c8      2557    1801877  1801969           92  Nonproduction   \n",
      "1  0022f953      2454    1788842  1788969          127  Nonproduction   \n",
      "2  0042269b      4136    1771219  1771669          450  Nonproduction   \n",
      "3  0059420b      1556    1404394  1404469           75          Input   \n",
      "4  0075873a      2531    1662390  1662472           82          Input   \n",
      "\n",
      "  down_event   up_event text_change  cursor_position  word_count  score  \n",
      "0  Leftclick  Leftclick    NoChange             1046         255    3.5  \n",
      "1  ArrowDown  ArrowDown    NoChange             1519         320    3.5  \n",
      "2  Leftclick  Leftclick    NoChange              491         404    6.0  \n",
      "3          .          .           .              797         206    2.0  \n",
      "4      Enter      Enter          \\n             1402         252    4.0  \n"
     ]
    }
   ],
   "source": [
    "# Is there any correlation between the essay length and the essay quality?\n",
    "# Step 1 & 2: Group by 'id' and get the row with the max 'event_id'\n",
    "df_max_event = df.loc[df.groupby('id')['event_id'].idxmax()]\n",
    "\n",
    "# Step 3: Left join with the scores DataFrame\n",
    "result = df_max_event.merge(df_score, on='id', how='left')\n",
    "print(result.head())"
   ]
  },
  {
   "cell_type": "code",
   "execution_count": 18,
   "metadata": {},
   "outputs": [
    {
     "data": {
      "text/plain": [
       "id                 0\n",
       "event_id           0\n",
       "down_time          0\n",
       "up_time            0\n",
       "action_time        0\n",
       "activity           0\n",
       "down_event         0\n",
       "up_event           0\n",
       "text_change        0\n",
       "cursor_position    0\n",
       "word_count         0\n",
       "score              0\n",
       "dtype: int64"
      ]
     },
     "execution_count": 18,
     "metadata": {},
     "output_type": "execute_result"
    }
   ],
   "source": [
    "result.isna().sum()"
   ]
  },
  {
   "cell_type": "code",
   "execution_count": 19,
   "metadata": {},
   "outputs": [
    {
     "name": "stdout",
     "output_type": "stream",
     "text": [
      "event_id           0.590769\n",
      "down_time          0.025056\n",
      "up_time            0.025245\n",
      "action_time        0.038682\n",
      "cursor_position    0.476897\n",
      "word_count         0.640241\n",
      "score              1.000000\n",
      "Name: score, dtype: float64\n",
      "\n",
      "event_id           0.787621\n",
      "down_time          0.043294\n",
      "up_time            0.043558\n",
      "action_time        0.054059\n",
      "cursor_position    0.743527\n",
      "word_count         1.000000\n",
      "score              0.640241\n",
      "Name: word_count, dtype: float64\n"
     ]
    }
   ],
   "source": [
    "# NOTE: it seems that the essay length is kinda strongly correlated with the essay quality\n",
    "print(result.corr(numeric_only=True)[\"score\"])\n",
    "print()\n",
    "\n",
    "# NOTE: it seems that the last_event_id is also kinda strongly correlated with the essay quality, but event_id and word_count is also highly correlated\n",
    "print(result.corr(numeric_only=True)[\"word_count\"])"
   ]
  },
  {
   "cell_type": "code",
   "execution_count": 20,
   "metadata": {},
   "outputs": [],
   "source": [
    "# Explore the relationship between remove/cut and the essay quality\n"
   ]
  },
  {
   "cell_type": "code",
   "execution_count": 21,
   "metadata": {},
   "outputs": [
    {
     "name": "stdout",
     "output_type": "stream",
     "text": [
      "             id  event_id  down_time  up_time  action_time       activity  \\\n",
      "2556   001519c8      2557    1801877  1801969           92  Nonproduction   \n",
      "5010   0022f953      2454    1788842  1788969          127  Nonproduction   \n",
      "9146   0042269b      4136    1771219  1771669          450  Nonproduction   \n",
      "10702  0059420b      1556    1404394  1404469           75          Input   \n",
      "13233  0075873a      2531    1662390  1662472           82          Input   \n",
      "\n",
      "      down_event   up_event text_change  cursor_position  word_count  \n",
      "2556   Leftclick  Leftclick    NoChange             1046         255  \n",
      "5010   ArrowDown  ArrowDown    NoChange             1519         320  \n",
      "9146   Leftclick  Leftclick    NoChange              491         404  \n",
      "10702          .          .           .              797         206  \n",
      "13233      Enter      Enter          \\n             1402         252  \n",
      "event_id           0.590769\n",
      "down_time          0.025056\n",
      "up_time            0.025245\n",
      "action_time        0.038695\n",
      "cursor_position    0.476897\n",
      "word_count         0.640241\n",
      "score              1.000000\n",
      "Name: score, dtype: float64\n"
     ]
    }
   ],
   "source": [
    "# The time used to finish this task\n",
    "# Step 1: Group by 'id' and get the row with the max 'up_time'\n",
    "df_max_time = df.loc[df.groupby('id')['up_time'].idxmax()]\n",
    "print(df_max_time.head())\n",
    "\n",
    "assert len(df_max_time) == df['id'].nunique() \n",
    "\n",
    "# Step 2: Left join with the scores DataFrame\n",
    "result_max_time = df_max_time.merge(df_score, on='id', how='left')\n",
    "\n",
    "r_max_time = result_max_time.corr(numeric_only=True)\n",
    "print(r_max_time['score'])"
   ]
  },
  {
   "cell_type": "markdown",
   "metadata": {},
   "source": [
    "## Number of Sentences/Average Sentence Length"
   ]
  },
  {
   "cell_type": "code",
   "execution_count": 22,
   "metadata": {},
   "outputs": [
    {
     "name": "stdout",
     "output_type": "stream",
     "text": [
      "         id  score  num_sentences\n",
      "0  001519c8    3.5             28\n",
      "1  0022f953    3.5             18\n",
      "2  0042269b    6.0             23\n",
      "3  0059420b    2.0             13\n",
      "4  0075873a    4.0             32\n"
     ]
    }
   ],
   "source": [
    "# get the number of text_change that contains '.' for each essay； added that as a column to the DataFrame \n",
    "df['is_a_sentence'] = df['text_change'].apply(lambda x: '.' in x)\n",
    "df_contains_dot = df.groupby('id')['is_a_sentence'].sum().reset_index()\n",
    "df_contains_dot.columns = ['id', 'num_sentences']\n",
    "df_num_sentences = df_score.copy().merge(df_contains_dot, on='id', how='left')\n",
    "print(df_num_sentences.head())"
   ]
  },
  {
   "cell_type": "code",
   "execution_count": 23,
   "metadata": {},
   "outputs": [
    {
     "name": "stdout",
     "output_type": "stream",
     "text": [
      "         id  score  num_sentences  event_id  down_time  up_time  action_time  \\\n",
      "0  001519c8    3.5             28      2557    1801877  1801969           92   \n",
      "1  0022f953    3.5             18      2454    1788842  1788969          127   \n",
      "2  0042269b    6.0             23      4136    1771219  1771669          450   \n",
      "3  0059420b    2.0             13      1556    1404394  1404469           75   \n",
      "4  0075873a    4.0             32      2531    1662390  1662472           82   \n",
      "\n",
      "        activity down_event   up_event text_change  cursor_position  \\\n",
      "0  Nonproduction  Leftclick  Leftclick    NoChange             1046   \n",
      "1  Nonproduction  ArrowDown  ArrowDown    NoChange             1519   \n",
      "2  Nonproduction  Leftclick  Leftclick    NoChange              491   \n",
      "3          Input          .          .           .              797   \n",
      "4          Input      Enter      Enter          \\n             1402   \n",
      "\n",
      "   word_count  avg_sentence_length  \n",
      "0         255             9.107143  \n",
      "1         320            17.777778  \n",
      "2         404            17.565217  \n",
      "3         206            15.846154  \n",
      "4         252             7.875000  \n"
     ]
    }
   ],
   "source": [
    "# add average sentence length to df_num_sentences\n",
    "df_avg_sentence_length = df_num_sentences.copy()\n",
    "df_avg_sentence_length = df_avg_sentence_length.merge(result, on=\"id\", how=\"left\", suffixes=('', '_DROP')).filter(regex='^(?!.*_DROP)')\n",
    "df_avg_sentence_length['avg_sentence_length'] = df_avg_sentence_length['word_count'] / df_avg_sentence_length['num_sentences']\n",
    "print(df_avg_sentence_length.head())"
   ]
  },
  {
   "cell_type": "code",
   "execution_count": 24,
   "metadata": {},
   "outputs": [
    {
     "name": "stdout",
     "output_type": "stream",
     "text": [
      "score                  1.000000\n",
      "num_sentences          0.393537\n",
      "event_id               0.590769\n",
      "down_time              0.025056\n",
      "up_time                0.025245\n",
      "action_time            0.038682\n",
      "cursor_position        0.476897\n",
      "word_count             0.640241\n",
      "avg_sentence_length    0.013285\n",
      "Name: score, dtype: float64\n"
     ]
    }
   ],
   "source": [
    "corr_avg_sentence_length = df_avg_sentence_length.corr(numeric_only=True)\n",
    "print(corr_avg_sentence_length['score'])\n",
    "# sns.heatmap(corr_avg_sentence_length['score'])"
   ]
  },
  {
   "cell_type": "markdown",
   "metadata": {},
   "source": [
    "## Number of Backspaces"
   ]
  },
  {
   "cell_type": "code",
   "execution_count": 25,
   "metadata": {},
   "outputs": [
    {
     "data": {
      "text/html": [
       "<div>\n",
       "<style scoped>\n",
       "    .dataframe tbody tr th:only-of-type {\n",
       "        vertical-align: middle;\n",
       "    }\n",
       "\n",
       "    .dataframe tbody tr th {\n",
       "        vertical-align: top;\n",
       "    }\n",
       "\n",
       "    .dataframe thead th {\n",
       "        text-align: right;\n",
       "    }\n",
       "</style>\n",
       "<table border=\"1\" class=\"dataframe\">\n",
       "  <thead>\n",
       "    <tr style=\"text-align: right;\">\n",
       "      <th></th>\n",
       "      <th>id</th>\n",
       "      <th>event_id</th>\n",
       "      <th>down_time</th>\n",
       "      <th>up_time</th>\n",
       "      <th>action_time</th>\n",
       "      <th>activity</th>\n",
       "      <th>down_event</th>\n",
       "      <th>up_event</th>\n",
       "      <th>text_change</th>\n",
       "      <th>cursor_position</th>\n",
       "      <th>word_count</th>\n",
       "      <th>is_a_sentence</th>\n",
       "    </tr>\n",
       "  </thead>\n",
       "  <tbody>\n",
       "  </tbody>\n",
       "</table>\n",
       "</div>"
      ],
      "text/plain": [
       "Empty DataFrame\n",
       "Columns: [id, event_id, down_time, up_time, action_time, activity, down_event, up_event, text_change, cursor_position, word_count, is_a_sentence]\n",
       "Index: []"
      ]
     },
     "execution_count": 25,
     "metadata": {},
     "output_type": "execute_result"
    }
   ],
   "source": [
    "df[(df['down_event'] != df['up_event']) & (df['down_event'] == 'Backspace')].head()"
   ]
  },
  {
   "cell_type": "code",
   "execution_count": 31,
   "metadata": {},
   "outputs": [
    {
     "name": "stdout",
     "output_type": "stream",
     "text": [
      "         id  score\n",
      "0  001519c8    3.5\n",
      "1  0022f953    3.5\n",
      "2  0042269b    6.0\n",
      "3  0059420b    2.0\n",
      "4  0075873a    4.0\n",
      "         id  event_id  down_time  up_time  action_time       activity  \\\n",
      "0  001519c8         1       4526     4557           31  Nonproduction   \n",
      "1  001519c8         2       4558     4962          404  Nonproduction   \n",
      "2  001519c8         3     106571   106571            0  Nonproduction   \n",
      "3  001519c8         4     106686   106777           91          Input   \n",
      "4  001519c8         5     107196   107323          127          Input   \n",
      "\n",
      "  down_event   up_event text_change  cursor_position  word_count  \\\n",
      "0  Leftclick  Leftclick    NoChange                0           0   \n",
      "1  Leftclick  Leftclick    NoChange                0           0   \n",
      "2      Shift      Shift    NoChange                0           0   \n",
      "3          q          q           q                1           1   \n",
      "4          q          q           q                2           1   \n",
      "\n",
      "   is_a_sentence  \n",
      "0          False  \n",
      "1          False  \n",
      "2          False  \n",
      "3          False  \n",
      "4          False  \n",
      "df_tmp\n",
      "          id  num_backspaces\n",
      "0  001519c8             417\n",
      "1  0022f953             260\n",
      "2  0042269b             439\n",
      "3  0059420b             152\n",
      "4  0075873a             517\n",
      "         id  score  num_backspaces\n",
      "0  001519c8    3.5             417\n",
      "1  0022f953    3.5             260\n",
      "2  0042269b    6.0             439\n",
      "3  0059420b    2.0             152\n",
      "4  0075873a    4.0             517\n",
      "score             1.000000\n",
      "num_backspaces    0.280929\n",
      "Name: score, dtype: float64\n"
     ]
    }
   ],
   "source": [
    "\n",
    "df_num_backspaces = df_score.copy()\n",
    "df_tmp = df_score.copy()\n",
    "print(df_num_backspaces.head())\n",
    "print(df.head())\n",
    "\n",
    "df_tmp = df.groupby('id')['down_event'].apply(lambda x: (x == 'Backspace').sum()).reset_index()\n",
    "df_tmp.columns = ['id', 'num_backspaces']\n",
    "print('df_tmp\\n', df_tmp.head())\n",
    "\n",
    "df_num_backspaces = df_num_backspaces.merge(df_tmp, on='id', how='left', suffixes=('', '_DROP')).filter(regex='^(?!.*_DROP)')\n",
    "print(df_num_backspaces.head())\n",
    "print(df_num_backspaces.corr(numeric_only=True)['score'])"
   ]
  },
  {
   "cell_type": "markdown",
   "metadata": {},
   "source": [
    "## Starting Time"
   ]
  },
  {
   "cell_type": "code",
   "execution_count": 37,
   "metadata": {},
   "outputs": [
    {
     "name": "stdout",
     "output_type": "stream",
     "text": [
      "            id  down_time\n",
      "0     001519c8     106686\n",
      "1     0022f953      32706\n",
      "2     0042269b      21335\n",
      "3     0059420b     161494\n",
      "4     0075873a      94454\n",
      "...        ...        ...\n",
      "2466  ffb8c745      29456\n",
      "2467  ffbef7e5      40574\n",
      "2468  ffccd6fd      39919\n",
      "2469  ffec5b38      27617\n",
      "2470  fff05981      76584\n",
      "\n",
      "[2471 rows x 2 columns]\n",
      "id\n",
      "001519c8    106686\n",
      "0022f953     32706\n",
      "0042269b     21335\n",
      "0059420b    161494\n",
      "0075873a     94454\n",
      "             ...  \n",
      "ffb8c745     29456\n",
      "ffbef7e5     40574\n",
      "ffccd6fd     39919\n",
      "ffec5b38     27617\n",
      "fff05981     76584\n",
      "Name: down_time, Length: 2471, dtype: int64\n",
      "         id  score  first_input_time\n",
      "0  001519c8    3.5            106686\n",
      "1  0022f953    3.5             32706\n",
      "2  0042269b    6.0             21335\n",
      "3  0059420b    2.0            161494\n",
      "4  0075873a    4.0             94454\n",
      "score               1.000000\n",
      "first_input_time   -0.136012\n",
      "Name: score, dtype: float64\n"
     ]
    }
   ],
   "source": [
    "df_first_q_time = df[df['down_event'] == 'q'].sort_values(by=('down_time')).groupby('id')['down_time'].first().reset_index()\n",
    "print(df[df['down_event'] == 'q'].sort_values(by=('down_time')).groupby('id')['down_time'].first().reset_index())\n",
    "print(df[df['down_event'] == 'q'].sort_values(by=('down_time')).groupby('id')['down_time'].first())\n",
    "df_first_q_time.columns = ['id', 'first_input_time']\n",
    "df_score_with_q_time = df_score.merge(df_first_q_time, on='id', how='left')\n",
    "print(df_score_with_q_time.head())\n",
    "print(df_score_with_q_time.corr(numeric_only=True)['score'])"
   ]
  },
  {
   "cell_type": "code",
   "execution_count": null,
   "metadata": {},
   "outputs": [],
   "source": []
  },
  {
   "cell_type": "code",
   "execution_count": null,
   "metadata": {},
   "outputs": [],
   "source": []
  }
 ],
 "metadata": {
  "kernelspec": {
   "display_name": "ds",
   "language": "python",
   "name": "python3"
  },
  "language_info": {
   "codemirror_mode": {
    "name": "ipython",
    "version": 3
   },
   "file_extension": ".py",
   "mimetype": "text/x-python",
   "name": "python",
   "nbconvert_exporter": "python",
   "pygments_lexer": "ipython3",
   "version": "3.10.8"
  }
 },
 "nbformat": 4,
 "nbformat_minor": 2
}

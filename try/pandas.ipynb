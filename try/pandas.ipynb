{
 "cells": [
  {
   "cell_type": "code",
   "execution_count": 5,
   "metadata": {},
   "outputs": [
    {
     "name": "stdout",
     "output_type": "stream",
     "text": [
      "['/Users/kaiqu/Developer/kaggle-linking-write-process-to-quality/Try', '/Users/kaiqu/Developer/kaggle-linking-write-process-to-quality', '/Users/kaiqu/Developer/kaggle-linking-write-process-to-quality/data_processing', '../data_processing/', '/Users/kaiqu/Developer/kaggle-linking-write-process-to-quality/data_processing', '../data_processing/', '../data_processing/', '../DataProcessing/', '/Users/kaiqu/anaconda3/envs/ds/lib/python310.zip', '/Users/kaiqu/anaconda3/envs/ds/lib/python3.10', '/Users/kaiqu/anaconda3/envs/ds/lib/python3.10/lib-dynload', '', '/Users/kaiqu/anaconda3/envs/ds/lib/python3.10/site-packages']\n"
     ]
    }
   ],
   "source": [
    "import sys\n",
    "sys.path.insert(1, '/Users/kaiqu/Developer/kaggle-linking-write-process-to-quality')\n",
    "print(sys.path)\n",
    "\n",
    "from data_processing.feature_engineering import *"
   ]
  },
  {
   "cell_type": "code",
   "execution_count": 6,
   "metadata": {},
   "outputs": [
    {
     "ename": "TypeError",
     "evalue": "get_all_features() missing 1 required positional argument: 'df'",
     "output_type": "error",
     "traceback": [
      "\u001b[0;31m---------------------------------------------------------------------------\u001b[0m",
      "\u001b[0;31mTypeError\u001b[0m                                 Traceback (most recent call last)",
      "Cell \u001b[0;32mIn[6], line 1\u001b[0m\n\u001b[0;32m----> 1\u001b[0m \u001b[43mget_all_features\u001b[49m\u001b[43m(\u001b[49m\u001b[43m)\u001b[49m\n",
      "\u001b[0;31mTypeError\u001b[0m: get_all_features() missing 1 required positional argument: 'df'"
     ]
    }
   ],
   "source": [
    "get_all_features()"
   ]
  },
  {
   "cell_type": "code",
   "execution_count": 1,
   "metadata": {},
   "outputs": [
    {
     "name": "stdout",
     "output_type": "stream",
     "text": [
      "       A  B\n",
      "0    one  0\n",
      "1    one  1\n",
      "2    two  2\n",
      "3  three  3\n",
      "4  three  4\n",
      "5    one  5\n",
      "\n",
      "     A  B\n",
      "0  one  0\n",
      "1  one  1\n",
      "5  one  5 \n",
      "\n",
      "\n",
      "       A  B\n",
      "3  three  3\n",
      "4  three  4 \n",
      "\n",
      "\n",
      "     A  B\n",
      "2  two  2 \n",
      "\n",
      "\n"
     ]
    }
   ],
   "source": [
    "import pandas as pd\n",
    "\n",
    "df = pd.DataFrame({\"A\": [\"one\", \"one\", \"two\", \"three\", \"three\", \"one\"], \"B\": range(6)})\n",
    "print(df)\n",
    "print()\n",
    "\n",
    "grp = df.groupby([\"A\"])\n",
    "grp.describe()\n",
    "\n",
    "grouped_df = df.groupby('A')\n",
    "print\n",
    "for key, item in grouped_df:\n",
    "    print(grouped_df.get_group(key), \"\\n\\n\")\n"
   ]
  }
 ],
 "metadata": {
  "kernelspec": {
   "display_name": "ds",
   "language": "python",
   "name": "python3"
  },
  "language_info": {
   "codemirror_mode": {
    "name": "ipython",
    "version": 3
   },
   "file_extension": ".py",
   "mimetype": "text/x-python",
   "name": "python",
   "nbconvert_exporter": "python",
   "pygments_lexer": "ipython3",
   "version": "3.10.0"
  }
 },
 "nbformat": 4,
 "nbformat_minor": 2
}

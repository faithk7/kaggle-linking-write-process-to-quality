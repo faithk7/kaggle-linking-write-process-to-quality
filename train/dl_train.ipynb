{
 "cells": [
  {
   "cell_type": "code",
   "execution_count": 10,
   "metadata": {},
   "outputs": [],
   "source": [
    "import torch\n",
    "import os\n",
    "import torch.nn as nn\n",
    "import pandas as pd\n",
    "import numpy as np\n",
    "import torch.optim as optim\n",
    "from torch.utils.data import DataLoader, TensorDataset\n",
    "from sklearn.model_selection import KFold\n",
    "import numpy as np\n",
    "import sys\n",
    "sys.path.insert(1, os.getcwd())\n",
    "\n",
    "from data_processing.feature_engineering import *"
   ]
  },
  {
   "cell_type": "markdown",
   "metadata": {},
   "source": [
    "# CFG\n"
   ]
  },
  {
   "cell_type": "code",
   "execution_count": 2,
   "metadata": {},
   "outputs": [],
   "source": [
    "# Data\n",
    "DATA_ROOT = \"/Users/kaiqu/kaggle-datasets/linking-writing-processes-to-writing-quality\"\n",
    "MODEL_PATH = \"../SavedModels/\"\n",
    "df = pd.read_csv(f'{DATA_ROOT}/train_logs.csv')\n",
    "df_score = pd.read_csv(f'{DATA_ROOT}/train_scores.csv')"
   ]
  },
  {
   "cell_type": "markdown",
   "metadata": {},
   "source": []
  },
  {
   "cell_type": "code",
   "execution_count": 3,
   "metadata": {},
   "outputs": [],
   "source": [
    "class CFG:\n",
    "    random_state = 42\n",
    "    \n",
    "    model_name = 'cnn'\n",
    "    lr = 0.001"
   ]
  },
  {
   "cell_type": "markdown",
   "metadata": {},
   "source": [
    "# Data"
   ]
  },
  {
   "cell_type": "code",
   "execution_count": 4,
   "metadata": {},
   "outputs": [],
   "source": [
    "# Getting features\n",
    "def get_all_features(df):\n",
    "    \"\"\"\n",
    "    Get all features for the given dataframe.\n",
    "\n",
    "    Parameters:\n",
    "    df (pandas.DataFrame): The input dataframe.\n",
    "\n",
    "    Returns:\n",
    "    pandas.DataFrame: The dataframe with all the features.\n",
    "    \"\"\"\n",
    "    feature_df = get_paragraph_features(df)\n",
    "    return feature_df\n",
    "\n",
    "\n",
    "def get_word_features(df, essay_df=None):\n",
    "    pass\n",
    "\n",
    "\n",
    "def get_sentence_features(df, essay_df=None):\n",
    "    pass\n",
    "\n",
    "\n",
    "# ? Do we have to make sure that the passed df are not changed in anyway?\n",
    "# ? What actions of df will return a new df?\n",
    "def get_paragraph_features(df, essay_df=None):\n",
    "    feature_df = df[[\"id\"]].copy()\n",
    "    # get the word length features\n",
    "    # TODO: need to rewrite the below shit; figure out a more elegant way to make sure that the indices are aligned\n",
    "    df_max_event = df.loc[df.groupby(\"id\")[\"event_id\"].idxmax()]\n",
    "    feature_df = feature_df.merge(df_max_event, on=\"id\", how=\"left\")\n",
    "    feature_df = feature_df[[\"word_count\"]].copy()\n",
    "    # print(feature_df.head())\n",
    "    return feature_df"
   ]
  },
  {
   "cell_type": "markdown",
   "metadata": {},
   "source": [
    "# Model"
   ]
  },
  {
   "cell_type": "code",
   "execution_count": 5,
   "metadata": {},
   "outputs": [],
   "source": [
    "class KeystrokeCNN(nn.Module):\n",
    "    def __init__(self, num_features):\n",
    "        super(KeystrokeCNN, self).__init__()\n",
    "        self.layer1 = nn.Sequential(\n",
    "            nn.Conv1d(in_channels=num_features, out_channels=64, kernel_size=3, stride=1, padding=1),\n",
    "            nn.ReLU(),\n",
    "            nn.MaxPool1d(kernel_size=2, stride=2)\n",
    "        )\n",
    "        self.layer2 = nn.Sequential(\n",
    "            nn.Conv1d(in_channels=64, out_channels=128, kernel_size=3, stride=1, padding=1),\n",
    "            nn.ReLU(),\n",
    "            nn.MaxPool1d(kernel_size=2, stride=2)\n",
    "        )\n",
    "        self.drop_out = nn.Dropout()\n",
    "        self.fc1 = nn.Linear(128, 128)\n",
    "        self.fc2 = nn.Linear(128, 1)\n",
    "\n",
    "    def forward(self, x):\n",
    "        out = self.layer1(x)\n",
    "        out = self.layer2(out)\n",
    "        out = out.reshape(out.size(0), -1)  # Flatten the output\n",
    "        out = self.drop_out(out)\n",
    "        out = self.fc1(out)\n",
    "        out = self.fc2(out)\n",
    "        return out"
   ]
  },
  {
   "cell_type": "markdown",
   "metadata": {},
   "source": [
    "# Training"
   ]
  },
  {
   "cell_type": "code",
   "execution_count": 6,
   "metadata": {},
   "outputs": [],
   "source": [
    "def train():\n",
    "    # 5-fold cross validation\n",
    "    train_data = df.merge(df_score, on=\"id\")\n",
    "\n",
    "    X = get_all_features(df)\n",
    "    y = train_data[\"score\"]\n",
    "    kf = KFold(n_splits=5, shuffle=True, random_state=CFG.random_state)\n",
    "\n",
    "    for fold, (train_index, valid_index) in enumerate(kf.split(X, y)):\n",
    "        print(f\"Training fold {fold + 1}\")\n",
    "        X_train, X_val = X.iloc[train_index], X.iloc[valid_index]\n",
    "        y_train, y_val = y.iloc[train_index], y.iloc[valid_index]\n",
    "        model = train_one_loop(X_train, X_val, y_train, y_val)\n",
    "        torch.save(model.state_dict(), f'{MODEL_PATH}/{CFG.model_name}_{fold}.pth')\n",
    "\n",
    "\n",
    "def train_one_loop(X_train, X_val, y_train, y_val):\n",
    "    # Convert data to PyTorch tensors\n",
    "    X_train_tensor = torch.Tensor(X_train)\n",
    "    X_val_tensor = torch.Tensor(X_val)\n",
    "    y_train_tensor = torch.Tensor(y_train)\n",
    "    y_val_tensor = torch.Tensor(y_val)\n",
    "\n",
    "    # Create Tensor datasets\n",
    "    train_dataset = TensorDataset(X_train_tensor, y_train_tensor)\n",
    "    val_dataset = TensorDataset(X_val_tensor, y_val_tensor)\n",
    "\n",
    "    # Data loaders\n",
    "    train_loader = DataLoader(dataset=train_dataset, batch_size=64, shuffle=True)\n",
    "    val_loader = DataLoader(dataset=val_dataset, batch_size=64, shuffle=False)\n",
    "\n",
    "    # Model\n",
    "    model = KeystrokeCNN(num_features=X_train.shape[1])\n",
    "    criterion = nn.MSELoss()\n",
    "    optimizer = optim.Adam(model.parameters(), lr=0.001)\n",
    "\n",
    "    # Training Loop\n",
    "    num_epochs = 10\n",
    "    for epoch in range(num_epochs):\n",
    "        model.train()\n",
    "        for i, (inputs, labels) in enumerate(train_loader):\n",
    "            outputs = model(inputs)\n",
    "            loss = criterion(outputs, labels)\n",
    "\n",
    "            optimizer.zero_grad()\n",
    "            loss.backward()\n",
    "            optimizer.step()\n",
    "\n",
    "        # Validation\n",
    "        model.eval()\n",
    "        val_loss = 0\n",
    "        with torch.no_grad():\n",
    "            for inputs, labels in val_loader:\n",
    "                outputs = model(inputs)\n",
    "                val_loss += criterion(outputs, labels).item()\n",
    "\n",
    "        print(f'Epoch [{epoch+1}/{num_epochs}], Loss: {loss.item():.4f}, Validation Loss: {val_loss/len(val_loader):.4f}')\n",
    "    return model\n"
   ]
  },
  {
   "cell_type": "code",
   "execution_count": 8,
   "metadata": {},
   "outputs": [
    {
     "name": "stdout",
     "output_type": "stream",
     "text": [
      "Training fold 1\n"
     ]
    },
    {
     "ename": "ValueError",
     "evalue": "could not determine the shape of object type 'DataFrame'",
     "output_type": "error",
     "traceback": [
      "\u001b[0;31m---------------------------------------------------------------------------\u001b[0m",
      "\u001b[0;31mValueError\u001b[0m                                Traceback (most recent call last)",
      "Cell \u001b[0;32mIn[8], line 1\u001b[0m\n\u001b[0;32m----> 1\u001b[0m \u001b[43mtrain\u001b[49m\u001b[43m(\u001b[49m\u001b[43m)\u001b[49m\n",
      "Cell \u001b[0;32mIn[6], line 13\u001b[0m, in \u001b[0;36mtrain\u001b[0;34m()\u001b[0m\n\u001b[1;32m     11\u001b[0m X_train, X_val \u001b[38;5;241m=\u001b[39m X\u001b[38;5;241m.\u001b[39miloc[train_index], X\u001b[38;5;241m.\u001b[39miloc[valid_index]\n\u001b[1;32m     12\u001b[0m y_train, y_val \u001b[38;5;241m=\u001b[39m y\u001b[38;5;241m.\u001b[39miloc[train_index], y\u001b[38;5;241m.\u001b[39miloc[valid_index]\n\u001b[0;32m---> 13\u001b[0m model \u001b[38;5;241m=\u001b[39m \u001b[43mtrain_one_loop\u001b[49m\u001b[43m(\u001b[49m\u001b[43mX_train\u001b[49m\u001b[43m,\u001b[49m\u001b[43m \u001b[49m\u001b[43mX_val\u001b[49m\u001b[43m,\u001b[49m\u001b[43m \u001b[49m\u001b[43my_train\u001b[49m\u001b[43m,\u001b[49m\u001b[43m \u001b[49m\u001b[43my_val\u001b[49m\u001b[43m)\u001b[49m\n\u001b[1;32m     14\u001b[0m torch\u001b[38;5;241m.\u001b[39msave(model\u001b[38;5;241m.\u001b[39mstate_dict(), \u001b[38;5;124mf\u001b[39m\u001b[38;5;124m'\u001b[39m\u001b[38;5;132;01m{\u001b[39;00mMODEL_PATH\u001b[38;5;132;01m}\u001b[39;00m\u001b[38;5;124m/\u001b[39m\u001b[38;5;132;01m{\u001b[39;00mCFG\u001b[38;5;241m.\u001b[39mmodel_name\u001b[38;5;132;01m}\u001b[39;00m\u001b[38;5;124m_\u001b[39m\u001b[38;5;132;01m{\u001b[39;00mfold\u001b[38;5;132;01m}\u001b[39;00m\u001b[38;5;124m.pth\u001b[39m\u001b[38;5;124m'\u001b[39m)\n",
      "Cell \u001b[0;32mIn[6], line 19\u001b[0m, in \u001b[0;36mtrain_one_loop\u001b[0;34m(X_train, X_val, y_train, y_val)\u001b[0m\n\u001b[1;32m     17\u001b[0m \u001b[38;5;28;01mdef\u001b[39;00m \u001b[38;5;21mtrain_one_loop\u001b[39m(X_train, X_val, y_train, y_val):\n\u001b[1;32m     18\u001b[0m     \u001b[38;5;66;03m# Convert data to PyTorch tensors\u001b[39;00m\n\u001b[0;32m---> 19\u001b[0m     X_train_tensor \u001b[38;5;241m=\u001b[39m \u001b[43mtorch\u001b[49m\u001b[38;5;241;43m.\u001b[39;49m\u001b[43mTensor\u001b[49m\u001b[43m(\u001b[49m\u001b[43mX_train\u001b[49m\u001b[43m)\u001b[49m\n\u001b[1;32m     20\u001b[0m     X_val_tensor \u001b[38;5;241m=\u001b[39m torch\u001b[38;5;241m.\u001b[39mTensor(X_val)\n\u001b[1;32m     21\u001b[0m     y_train_tensor \u001b[38;5;241m=\u001b[39m torch\u001b[38;5;241m.\u001b[39mTensor(y_train)\n",
      "\u001b[0;31mValueError\u001b[0m: could not determine the shape of object type 'DataFrame'"
     ]
    }
   ],
   "source": [
    "train()"
   ]
  },
  {
   "cell_type": "code",
   "execution_count": 7,
   "metadata": {},
   "outputs": [],
   "source": [
    "# Evaluation\n",
    "# from math import sqrt\n",
    "\n",
    "# model.eval()\n",
    "# total_val_loss = 0\n",
    "# with torch.no_grad():\n",
    "#     for inputs, labels in val_loader:\n",
    "#         outputs = model(inputs)\n",
    "#         total_val_loss += criterion(outputs, labels).item()\n",
    "\n",
    "# rmse = sqrt(total_val_loss / len(val_loader))\n",
    "# print(f'RMSE: {rmse}')"
   ]
  },
  {
   "cell_type": "code",
   "execution_count": null,
   "metadata": {},
   "outputs": [],
   "source": []
  },
  {
   "cell_type": "code",
   "execution_count": null,
   "metadata": {},
   "outputs": [],
   "source": []
  },
  {
   "cell_type": "code",
   "execution_count": null,
   "metadata": {},
   "outputs": [],
   "source": []
  },
  {
   "cell_type": "code",
   "execution_count": null,
   "metadata": {},
   "outputs": [],
   "source": []
  }
 ],
 "metadata": {
  "kernelspec": {
   "display_name": "ds",
   "language": "python",
   "name": "python3"
  },
  "language_info": {
   "codemirror_mode": {
    "name": "ipython",
    "version": 3
   },
   "file_extension": ".py",
   "mimetype": "text/x-python",
   "name": "python",
   "nbconvert_exporter": "python",
   "pygments_lexer": "ipython3",
   "version": "3.11.0"
  }
 },
 "nbformat": 4,
 "nbformat_minor": 2
}
